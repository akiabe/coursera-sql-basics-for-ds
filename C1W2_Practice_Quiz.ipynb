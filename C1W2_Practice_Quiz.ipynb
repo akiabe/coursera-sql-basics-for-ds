{
  "nbformat": 4,
  "nbformat_minor": 0,
  "metadata": {
    "colab": {
      "name": "C1W2_Practice_Quiz.ipynb",
      "provenance": [],
      "authorship_tag": "ABX9TyPCQnPxEpEW5Z1jQudoNPVM",
      "include_colab_link": true
    },
    "kernelspec": {
      "name": "python3",
      "display_name": "Python 3"
    }
  },
  "cells": [
    {
      "cell_type": "markdown",
      "metadata": {
        "id": "view-in-github",
        "colab_type": "text"
      },
      "source": [
        "<a href=\"https://colab.research.google.com/github/akiabe/coursera-sql-basics-for-ds/blob/master/C1W2_Practice_Quiz.ipynb\" target=\"_parent\"><img src=\"https://colab.research.google.com/assets/colab-badge.svg\" alt=\"Open In Colab\"/></a>"
      ]
    },
    {
      "cell_type": "markdown",
      "metadata": {
        "id": "jfkcYZYPRBoU",
        "colab_type": "text"
      },
      "source": [
        "Table titled: salary_range_by_job_classification. \n",
        "\n",
        "This table contains the following columns:\n",
        "\n",
        "SetID\n",
        "\n",
        "Job_Code\n",
        "\n",
        "Eff_Date\n",
        "\n",
        "Sal_End_Date\n",
        "\n",
        "Salary_setID\n",
        "\n",
        "Sal_Plan\n",
        "\n",
        "Grade\n",
        "\n",
        "Step\n",
        "\n",
        "Biweekly_High_Rate\n",
        "\n",
        "Biweekly_Low_Rate\n",
        "\n",
        "Union_Code\n",
        "\n",
        "Extended_Step\n",
        "\n",
        "Pay_Type"
      ]
    },
    {
      "cell_type": "markdown",
      "metadata": {
        "id": "24TOYgE4SMde",
        "colab_type": "text"
      },
      "source": [
        "1. Find the distinct values for the extended step. The code has been started for you, but you will need to program the third line yourself before running the query."
      ]
    },
    {
      "cell_type": "code",
      "metadata": {
        "id": "fO3YviU_Qi49",
        "colab_type": "code",
        "colab": {}
      },
      "source": [
        "SELECT \n",
        "distinct Extended_step\n",
        "FROM salary_range_by_job_classification"
      ],
      "execution_count": 0,
      "outputs": []
    },
    {
      "cell_type": "code",
      "metadata": {
        "id": "VBPfuoEDQrYe",
        "colab_type": "code",
        "colab": {}
      },
      "source": [
        "0\n",
        "11\n",
        "6\n",
        "2"
      ],
      "execution_count": 0,
      "outputs": []
    },
    {
      "cell_type": "markdown",
      "metadata": {
        "id": "rt3t7zjlSnFR",
        "colab_type": "text"
      },
      "source": [
        "2. Excluding $0.00, what is the minimum bi-weekly high rate of pay (please include the dollar sign and decimal point in your answer)? The code has been started for you, but you will need to add onto the last line of code to get the correct answer."
      ]
    },
    {
      "cell_type": "code",
      "metadata": {
        "id": "Ee7JBCvASZIr",
        "colab_type": "code",
        "colab": {}
      },
      "source": [
        "Select \n",
        "min(Biweekly_high_Rate)\n",
        "From salary_range_by_job_classification\n",
        "where biweekly_high_rate <> '$0.00'"
      ],
      "execution_count": 0,
      "outputs": []
    },
    {
      "cell_type": "code",
      "metadata": {
        "id": "I3EHuOkCS2cC",
        "colab_type": "code",
        "colab": {}
      },
      "source": [
        "+-------------------------+\n",
        "| min(Biweekly_high_Rate) |\n",
        "+-------------------------+\n",
        "| $100.00                 |\n",
        "+-------------------------+"
      ],
      "execution_count": 0,
      "outputs": []
    },
    {
      "cell_type": "markdown",
      "metadata": {
        "id": "D_eE-zXIS46Z",
        "colab_type": "text"
      },
      "source": [
        "4. What is the maximum biweekly high rate of pay (please include the dollar sign and decimal point in your answer)? The code has been started for you, but you will need to add onto the last line of code to get the correct answer."
      ]
    },
    {
      "cell_type": "code",
      "metadata": {
        "id": "byoJd1IWS8Tp",
        "colab_type": "code",
        "colab": {}
      },
      "source": [
        "SELECT \n",
        "Max(Biweekly_high_Rate) \n",
        "From salary_range_by_job_classification;"
      ],
      "execution_count": 0,
      "outputs": []
    },
    {
      "cell_type": "code",
      "metadata": {
        "id": "5VxjjO_tTHzh",
        "colab_type": "code",
        "colab": {}
      },
      "source": [
        "+-------------------------+\n",
        "| Max(Biweekly_high_Rate) |\n",
        "+-------------------------+\n",
        "| $9726.38                |\n",
        "+-------------------------+"
      ],
      "execution_count": 0,
      "outputs": []
    },
    {
      "cell_type": "markdown",
      "metadata": {
        "id": "tLDFpH64TMrS",
        "colab_type": "text"
      },
      "source": [
        "5. What is the pay type for all the job codes that start with '03'? The code has been started for you, but you will need to program the fourth and fifth lines yourself before running the query."
      ]
    },
    {
      "cell_type": "code",
      "metadata": {
        "id": "cvB9DuKGTN8Z",
        "colab_type": "code",
        "colab": {}
      },
      "source": [
        "Select\n",
        "job_code,\n",
        "pay_type\n",
        "From salary_range_by_job_classification\n",
        "where job_code like '03%'"
      ],
      "execution_count": 0,
      "outputs": []
    },
    {
      "cell_type": "code",
      "metadata": {
        "id": "cftBIr_WTU-p",
        "colab_type": "code",
        "colab": {}
      },
      "source": [
        "+----------+----------+\n",
        "| Job_Code | Pay_Type |\n",
        "+----------+----------+\n",
        "| 0380     | B        |\n",
        "| 0381     | B        |\n",
        "| 0382     | B        |\n",
        "| 0390     | B        |\n",
        "| 0395     | B        |\n",
        "| 0380     | B        |\n",
        "| 0381     | B        |\n",
        "| 0382     | B        |\n",
        "+----------+----------+"
      ],
      "execution_count": 0,
      "outputs": []
    },
    {
      "cell_type": "markdown",
      "metadata": {
        "id": "yTLbfIDsTXbB",
        "colab_type": "text"
      },
      "source": [
        "6. Run a query to find the Effective Date (eff_date) or Salary End Date (sal_end_date) for grade Q90H0? The code has been started for you, but you will need to program the third through the sixth lines yourself before running the query."
      ]
    },
    {
      "cell_type": "code",
      "metadata": {
        "id": "EntluS9qTa5J",
        "colab_type": "code",
        "colab": {}
      },
      "source": [
        "Select\n",
        "grade,\n",
        "eff_date,\n",
        "sal_end_date\n",
        "From salary_range_by_job_classification\n",
        "where grade = 'Q90H0'"
      ],
      "execution_count": 0,
      "outputs": []
    },
    {
      "cell_type": "code",
      "metadata": {
        "id": "vF7upiGuTmfp",
        "colab_type": "code",
        "colab": {}
      },
      "source": [
        "+-------+------------------------+------------------------+\n",
        "| Grade | Eff_Date               | Sal_End_Date           |\n",
        "+-------+------------------------+------------------------+\n",
        "| Q90H0 | 12/26/2009 12:00:00 AM | 06/30/2010 12:00:00 AM |\n",
        "+-------+------------------------+------------------------+"
      ],
      "execution_count": 0,
      "outputs": []
    },
    {
      "cell_type": "markdown",
      "metadata": {
        "id": "hXusststTt2Y",
        "colab_type": "text"
      },
      "source": [
        "7. Sort the Biweekly low rate in ascending order. There is no starter code, as you need to write and run the query on your own. Hint: there are 4 lines to run this query."
      ]
    },
    {
      "cell_type": "code",
      "metadata": {
        "id": "3lIx_sY1Tw4y",
        "colab_type": "code",
        "colab": {}
      },
      "source": [
        "Select\n",
        "biweekly_low_rate\n",
        "From salary_range_by_job_classification\n",
        "order by biweekly_low_rate asc          \n",
        "# DESC -- Descending order\n",
        "# ASC -- Ascending order"
      ],
      "execution_count": 0,
      "outputs": []
    },
    {
      "cell_type": "code",
      "metadata": {
        "id": "jZS3rZBoVZ8P",
        "colab_type": "code",
        "colab": {}
      },
      "source": [
        "+-------------------+\n",
        "| Biweekly_Low_Rate |\n",
        "+-------------------+\n",
        "| $0.00             |\n",
        "| $0.00             |\n",
        "| $0.00             |\n",
        "| $0.00             |\n",
        "| $100.00           |\n",
        "| $100.00           |\n",
        "| $10059.00         |\n",
        "| $10376.00         |\n",
        "| $1052.00          |\n",
        "| $10630.00         |\n",
        "| $10843.00         |\n",
        "| $1088.00          |\n",
        "| $1112.00          |\n",
        "| $11255.00         |\n",
        "| $11405.00         |\n",
        "| $1162.00          |\n",
        "| $12120.77         |\n",
        "| $1280.00          |\n",
        "| $1284.00          |\n",
        "| $1298.00          |\n",
        "| $1299.00          |\n",
        "| $1381.00          |\n",
        "| $1384.00          |\n",
        "| $1405.00          |\n",
        "| $1464.00          |\n",
        "+-------------------+\n",
        "(Output limit exceeded, 25 of 1356 total rows shown)"
      ],
      "execution_count": 0,
      "outputs": []
    },
    {
      "cell_type": "markdown",
      "metadata": {
        "id": "WGn6K3IZU3Mp",
        "colab_type": "text"
      },
      "source": [
        "8. What Step are Job Codes 0110-0400? Hint: there are 6 lines to run this query."
      ]
    },
    {
      "cell_type": "code",
      "metadata": {
        "id": "cDjAStQQU6Ho",
        "colab_type": "code",
        "colab": {}
      },
      "source": [
        "SELECT \n",
        "Job_Code,\n",
        "Salary_setID,\n",
        "Step\n",
        "FROM salary_range_by_job_classification\n",
        "where Job_Code between \"0110\" and \"0400\""
      ],
      "execution_count": 0,
      "outputs": []
    },
    {
      "cell_type": "code",
      "metadata": {
        "id": "bmUAgwS1VDBx",
        "colab_type": "code",
        "colab": {}
      },
      "source": [
        "+----------+--------------+------+\n",
        "| Job_Code | Salary_SetID | Step |\n",
        "+----------+--------------+------+\n",
        "| 0110     | COMMN        | 1    |\n",
        "| 0111     | COMMN        | 1    |\n",
        "| 0112     | COMMN        | 1    |\n",
        "| 0114     | COMMN        | 1    |\n",
        "| 0115     | COMMN        | 1    |\n",
        "| 0116     | COMMN        | 1    |\n",
        "| 0118     | COMMN        | 1    |\n",
        "| 0119     | COMMN        | 1    |\n",
        "| 0140     | COMMN        | 1    |\n",
        "| 0150     | COMMN        | 1    |\n",
        "| 0170     | COMMN        | 1    |\n",
        "| 0180     | COMMN        | 1    |\n",
        "| 0190     | COMMN        | 1    |\n",
        "| 0380     | COMMN        | 1    |\n",
        "| 0381     | COMMN        | 1    |\n",
        "| 0382     | COMMN        | 1    |\n",
        "| 0390     | COMMN        | 1    |\n",
        "| 0395     | COMMN        | 1    |\n",
        "| 0400     | COMMN        | 1    |\n",
        "| 0140     | COMMN        | 1    |\n",
        "| 0150     | COMMN        | 1    |\n",
        "| 0380     | COMMN        | 1    |\n",
        "| 0381     | COMMN        | 1    |\n",
        "| 0382     | COMMN        | 1    |\n",
        "+----------+--------------+------+"
      ],
      "execution_count": 0,
      "outputs": []
    },
    {
      "cell_type": "markdown",
      "metadata": {
        "id": "lRacnhFVVwrR",
        "colab_type": "text"
      },
      "source": [
        "9. What is the Biweekly High Rate minus the Biweekly Low Rate for job Code 0170?"
      ]
    },
    {
      "cell_type": "code",
      "metadata": {
        "id": "23IgRniOVybo",
        "colab_type": "code",
        "colab": {}
      },
      "source": [
        "Select\n",
        "Job_code,\n",
        "Biweekly_high_rate,\n",
        "Biweekly_low_rate, \n",
        "(biweekly_high_rate - Biweekly_low_rate) as calc\n",
        "From salary_range_by_job_classification\n",
        "Where Job_code = '0170'"
      ],
      "execution_count": 0,
      "outputs": []
    },
    {
      "cell_type": "code",
      "metadata": {
        "id": "sVvk_vpnV8uo",
        "colab_type": "code",
        "colab": {}
      },
      "source": [
        "+----------+--------------------+-------------------+------+\n",
        "| Job_Code | Biweekly_High_Rate | Biweekly_Low_Rate | calc |\n",
        "+----------+--------------------+-------------------+------+\n",
        "| 0170     | $4142.00           | $4142.00          |    0 |\n",
        "+----------+--------------------+-------------------+------+"
      ],
      "execution_count": 0,
      "outputs": []
    },
    {
      "cell_type": "markdown",
      "metadata": {
        "id": "w-Zd_0jHWLFq",
        "colab_type": "text"
      },
      "source": [
        "10. What is the Extended Step for Pay Types M, H, and D?"
      ]
    },
    {
      "cell_type": "code",
      "metadata": {
        "id": "wqX7TWZ4WN9y",
        "colab_type": "code",
        "colab": {}
      },
      "source": [
        "Select\n",
        "Extended_step,\n",
        "Pay_Type\n",
        "From salary_range_by_job_classification\n",
        "Where Pay_Type in ('M', 'H', 'D');"
      ],
      "execution_count": 0,
      "outputs": []
    },
    {
      "cell_type": "code",
      "metadata": {
        "id": "Nfh4nBJ_WU_A",
        "colab_type": "code",
        "colab": {}
      },
      "source": [
        "+---------------+----------+\n",
        "| Extended_Step | Pay_Type |\n",
        "+---------------+----------+\n",
        "| 0             | D        |\n",
        "| 0             | D        |\n",
        "| 0             | D        |\n",
        "| 0             | M        |\n",
        "| 0             | D        |\n",
        "| 0             | D        |\n",
        "| 0             | M        |\n",
        "| 0             | H        |\n",
        "| 0             | H        |\n",
        "| 0             | H        |\n",
        "| 0             | H        |\n",
        "| 0             | H        |\n",
        "| 0             | H        |\n",
        "| 0             | H        |\n",
        "| 0             | H        |\n",
        "+---------------+----------+"
      ],
      "execution_count": 0,
      "outputs": []
    },
    {
      "cell_type": "markdown",
      "metadata": {
        "id": "p3rw5T2jYPg-",
        "colab_type": "text"
      },
      "source": [
        "11. What is the step for Union Code 990 and a Set ID of SFMTA or COMMN?"
      ]
    },
    {
      "cell_type": "code",
      "metadata": {
        "id": "GTUAWIWcYfhn",
        "colab_type": "code",
        "colab": {}
      },
      "source": [
        "SELECT \n",
        "Union_code,\n",
        "SetID,\n",
        "Step\n",
        "from salary_range_by_job_classification\n",
        "where Union_code = 990 and (SetID = 'SFMTA' or SetID = 'COMMN')"
      ],
      "execution_count": 0,
      "outputs": []
    },
    {
      "cell_type": "code",
      "metadata": {
        "id": "BK115IM-Yid9",
        "colab_type": "code",
        "colab": {}
      },
      "source": [
        "+------------+-------+------+\n",
        "| Union_Code | SetID | Step |\n",
        "+------------+-------+------+\n",
        "| 990        | COMMN | 1    |\n",
        "+------------+-------+------+"
      ],
      "execution_count": 0,
      "outputs": []
    }
  ]
}