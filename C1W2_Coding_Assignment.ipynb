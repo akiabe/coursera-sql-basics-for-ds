{
  "nbformat": 4,
  "nbformat_minor": 0,
  "metadata": {
    "colab": {
      "name": "C1W2_Coding_Assignment.ipynb",
      "provenance": [],
      "authorship_tag": "ABX9TyP2/n6LJLuM7ADtijYAD7WV",
      "include_colab_link": true
    },
    "kernelspec": {
      "name": "python3",
      "display_name": "Python 3"
    }
  },
  "cells": [
    {
      "cell_type": "markdown",
      "metadata": {
        "id": "view-in-github",
        "colab_type": "text"
      },
      "source": [
        "<a href=\"https://colab.research.google.com/github/akiabe/coursera-sql-basics-for-ds/blob/master/C1W2_Coding_Assignment.ipynb\" target=\"_parent\"><img src=\"https://colab.research.google.com/assets/colab-badge.svg\" alt=\"Open In Colab\"/></a>"
      ]
    },
    {
      "cell_type": "markdown",
      "metadata": {
        "id": "0uHoziowkQBG",
        "colab_type": "text"
      },
      "source": [
        "1. All of the questions in this quiz refer to the open source Chinook Database. Please familiarize yourself with the ER diagram to familiarize yourself with the table and column names to write accurate queries and get the appropriate answers.Find all the tracks that have a length of 5,000,000 milliseconds or more."
      ]
    },
    {
      "cell_type": "markdown",
      "metadata": {
        "id": "SQfppv6OkeMi",
        "colab_type": "text"
      },
      "source": [
        ""
      ]
    },
    {
      "cell_type": "code",
      "metadata": {
        "id": "6ep8XC9ujyfi",
        "colab_type": "code",
        "colab": {}
      },
      "source": [
        "SELECT COUNT(TrackId)\n",
        "FROM TRACKS\n",
        "WHERE Milliseconds >= 5000000"
      ],
      "execution_count": 0,
      "outputs": []
    },
    {
      "cell_type": "code",
      "metadata": {
        "id": "N7o1iU90kt8S",
        "colab_type": "code",
        "colab": {}
      },
      "source": [
        "+----------------+\n",
        "| COUNT(TrackId) |\n",
        "+----------------+\n",
        "|              2 |\n",
        "+----------------+"
      ],
      "execution_count": 0,
      "outputs": []
    },
    {
      "cell_type": "markdown",
      "metadata": {
        "id": "mLkiPPVelP1Z",
        "colab_type": "text"
      },
      "source": [
        "2. Find all the invoices whose total is between 5 and 15 dollars."
      ]
    },
    {
      "cell_type": "code",
      "metadata": {
        "id": "BAnkBzfHlTMK",
        "colab_type": "code",
        "colab": {}
      },
      "source": [
        "SELECT InvoiceID,Total\n",
        "FROM Invoices\n",
        "WHERE Total > 5 AND Total < 15"
      ],
      "execution_count": 0,
      "outputs": []
    },
    {
      "cell_type": "code",
      "metadata": {
        "id": "xmr-HyznlgiO",
        "colab_type": "code",
        "colab": {}
      },
      "source": [
        "+-----------+-------+\n",
        "| InvoiceId | Total |\n",
        "+-----------+-------+\n",
        "|         3 |  5.94 |\n",
        "|         4 |  8.91 |\n",
        "|         5 | 13.86 |\n",
        "|        10 |  5.94 |\n",
        "|        11 |  8.91 |\n",
        "|        12 | 13.86 |\n",
        "|        17 |  5.94 |\n",
        "|        18 |  8.91 |\n",
        "|        19 | 13.86 |\n",
        "|        24 |  5.94 |\n",
        "+-----------+-------+\n",
        "(Output limit exceeded, 10 of 168 total rows shown)"
      ],
      "execution_count": 0,
      "outputs": []
    },
    {
      "cell_type": "markdown",
      "metadata": {
        "id": "NLJlODCllpJa",
        "colab_type": "text"
      },
      "source": [
        "3. Find all the customers from the following States: RJ, DF, AB, BC, CA, WA, NY."
      ]
    },
    {
      "cell_type": "code",
      "metadata": {
        "id": "JAZqLcM1lv0O",
        "colab_type": "code",
        "colab": {}
      },
      "source": [
        "SELECT FirstName, LastName, Company, State\n",
        "FROM Customers\n",
        "WHERE State IN ('RJ','DF','AB','BC','CA','WA','NY')"
      ],
      "execution_count": 0,
      "outputs": []
    },
    {
      "cell_type": "code",
      "metadata": {
        "id": "_2TX5XetlykS",
        "colab_type": "code",
        "colab": {}
      },
      "source": [
        "+-----------+----------+-----------------------+-------+\n",
        "| FirstName | LastName | Company               | State |\n",
        "+-----------+----------+-----------------------+-------+\n",
        "| Roberto   | Almeida  | Riotur                | RJ    |\n",
        "| Fernanda  | Ramos    | None                  | DF    |\n",
        "| Mark      | Philips  | Telus                 | AB    |\n",
        "| Jennifer  | Peterson | Rogers Canada         | BC    |\n",
        "| Frank     | Harris   | Google Inc.           | CA    |\n",
        "| Jack      | Smith    | Microsoft Corporation | WA    |\n",
        "| Michelle  | Brooks   | None                  | NY    |\n",
        "| Tim       | Goyer    | Apple Inc.            | CA    |\n",
        "| Dan       | Miller   | None                  | CA    |\n",
        "+-----------+----------+-----------------------+-------+"
      ],
      "execution_count": 0,
      "outputs": []
    },
    {
      "cell_type": "markdown",
      "metadata": {
        "id": "ILZ2RJMCl3_a",
        "colab_type": "text"
      },
      "source": [
        "4. Find all the invoices for customer 56 and 58 where the total was between 1.00 and 5.00 dollars."
      ]
    },
    {
      "cell_type": "code",
      "metadata": {
        "id": "MBp6zFuul_sK",
        "colab_type": "code",
        "colab": {}
      },
      "source": [
        "SELECT CustomerId, InvoiceId, Total, InvoiceDate\n",
        "FROM Invoices\n",
        "WHERE CustomerID IN (56,58) AND \n",
        "Total BETWEEN 1 AND 5"
      ],
      "execution_count": 0,
      "outputs": []
    },
    {
      "cell_type": "code",
      "metadata": {
        "id": "e2bFYcPnmEel",
        "colab_type": "code",
        "colab": {}
      },
      "source": [
        "+------------+-----------+-------+---------------------+\n",
        "| CustomerId | InvoiceId | Total | InvoiceDate         |\n",
        "+------------+-----------+-------+---------------------+\n",
        "|         56 |       119 |  1.98 | 2010-06-12 00:00:00 |\n",
        "|         56 |       142 |  3.96 | 2010-09-14 00:00:00 |\n",
        "|         56 |       337 |  1.98 | 2013-01-28 00:00:00 |\n",
        "|         58 |       120 |  1.98 | 2010-06-12 00:00:00 |\n",
        "|         58 |       315 |  1.98 | 2012-10-27 00:00:00 |\n",
        "|         58 |       338 |  3.96 | 2013-01-29 00:00:00 |\n",
        "|         58 |       412 |  1.99 | 2013-12-22 00:00:00 |\n",
        "+------------+-----------+-------+---------------------+"
      ],
      "execution_count": 0,
      "outputs": []
    },
    {
      "cell_type": "markdown",
      "metadata": {
        "id": "KxjNgaENmUtK",
        "colab_type": "text"
      },
      "source": [
        "5. Find all the tracks whose name starts with 'All'."
      ]
    },
    {
      "cell_type": "code",
      "metadata": {
        "id": "dx3JahJ_maDb",
        "colab_type": "code",
        "colab": {}
      },
      "source": [
        "SELECT TrackId, Name\n",
        "FROM Tracks\n",
        "WHERE Name LIKE 'All%'"
      ],
      "execution_count": 0,
      "outputs": []
    },
    {
      "cell_type": "code",
      "metadata": {
        "id": "mzY-Oy89ma4y",
        "colab_type": "code",
        "colab": {}
      },
      "source": [
        "+---------+----------------------------------------+\n",
        "| TrackId | Name                                   |\n",
        "+---------+----------------------------------------+\n",
        "|      38 | All I Really Want                      |\n",
        "|     134 | All For You                            |\n",
        "|     385 | All Star                               |\n",
        "|    1009 | All My Life                            |\n",
        "|    1608 | All My Love                            |\n",
        "|    1892 | All Within My Hands                    |\n",
        "|    2192 | All or None                            |\n",
        "|    2274 | All Dead, All Dead                     |\n",
        "|    2888 | All the Best Cowboys Have Daddy Issues |\n",
        "|    2969 | All Because Of You                     |\n",
        "+---------+----------------------------------------+\n",
        "(Output limit exceeded, 10 of 15 total rows shown)"
      ],
      "execution_count": 0,
      "outputs": []
    },
    {
      "cell_type": "markdown",
      "metadata": {
        "id": "uAAdtl7-mdDL",
        "colab_type": "text"
      },
      "source": [
        "6. Find all the customer emails that start with \"J\" and are from gmail.com."
      ]
    },
    {
      "cell_type": "code",
      "metadata": {
        "id": "91hGRudGmwJX",
        "colab_type": "code",
        "colab": {}
      },
      "source": [
        "SELECT CustomerId, Email\n",
        "FROM Customers\n",
        "WHERE Email LIKE \"J%@gmail.com\""
      ],
      "execution_count": 0,
      "outputs": []
    },
    {
      "cell_type": "code",
      "metadata": {
        "id": "96urpidsmycJ",
        "colab_type": "code",
        "colab": {}
      },
      "source": [
        "+------------+---------------------+\n",
        "| CustomerId | Email               |\n",
        "+------------+---------------------+\n",
        "|         28 | jubarnett@gmail.com |\n",
        "+------------+---------------------+"
      ],
      "execution_count": 0,
      "outputs": []
    },
    {
      "cell_type": "markdown",
      "metadata": {
        "id": "zn22F4pmm4s9",
        "colab_type": "text"
      },
      "source": [
        "7. Find all the invoices from the billing city Brasília, Edmonton, and Vancouver and sort in descending order by invoice ID."
      ]
    },
    {
      "cell_type": "code",
      "metadata": {
        "id": "1yUJeg4Xm_Dz",
        "colab_type": "code",
        "colab": {}
      },
      "source": [
        "SELECT InvoiceId, BillingCity, Total\n",
        "FROM Invoices\n",
        "WHERE BillingCity IN ('Brasilia','Edmonton','Vancouver')\n",
        "ORDER BY InvoiceId DESC"
      ],
      "execution_count": 0,
      "outputs": []
    },
    {
      "cell_type": "code",
      "metadata": {
        "id": "jBkg9_gDnBH1",
        "colab_type": "code",
        "colab": {}
      },
      "source": [
        "+-----------+-------------+-------+\n",
        "| InvoiceId | BillingCity | Total |\n",
        "+-----------+-------------+-------+\n",
        "|       362 | Edmonton    | 13.86 |\n",
        "|       351 | Edmonton    |  1.98 |\n",
        "|       328 | Vancouver   |  0.99 |\n",
        "|       276 | Vancouver   |  5.94 |\n",
        "|       254 | Vancouver   |  3.96 |\n",
        "|       231 | Vancouver   |  1.98 |\n",
        "|       230 | Edmonton    |  0.99 |\n",
        "|       178 | Edmonton    |  5.94 |\n",
        "|       156 | Edmonton    |  3.96 |\n",
        "|       133 | Edmonton    |  1.98 |\n",
        "+-----------+-------------+-------+\n",
        "(Output limit exceeded, 10 of 14 total rows shown)"
      ],
      "execution_count": 0,
      "outputs": []
    },
    {
      "cell_type": "markdown",
      "metadata": {
        "id": "jYvOhCugnIwJ",
        "colab_type": "text"
      },
      "source": [
        "8. Show the number of orders placed by each customer (hint: this is found in the invoices table) and sort the result by the number of orders in descending order."
      ]
    },
    {
      "cell_type": "code",
      "metadata": {
        "id": "0dLkB83BnQDE",
        "colab_type": "code",
        "colab": {}
      },
      "source": [
        "SELECT CustomerId, COUNT(*) AS Orders\n",
        "FROM Invoices\n",
        "GROUP BY CustomerId\n",
        "ORDER BY Orders DESC"
      ],
      "execution_count": 0,
      "outputs": []
    },
    {
      "cell_type": "code",
      "metadata": {
        "id": "_dfkNwERnR1t",
        "colab_type": "code",
        "colab": {}
      },
      "source": [
        "+------------+--------+\n",
        "| CustomerId | Orders |\n",
        "+------------+--------+\n",
        "|          1 |      7 |\n",
        "|          2 |      7 |\n",
        "|          3 |      7 |\n",
        "|          4 |      7 |\n",
        "|          5 |      7 |\n",
        "|          6 |      7 |\n",
        "|          7 |      7 |\n",
        "|          8 |      7 |\n",
        "|          9 |      7 |\n",
        "|         10 |      7 |\n",
        "+------------+--------+\n",
        "(Output limit exceeded, 10 of 59 total rows shown)"
      ],
      "execution_count": 0,
      "outputs": []
    },
    {
      "cell_type": "markdown",
      "metadata": {
        "id": "4buLtGhhna6Z",
        "colab_type": "text"
      },
      "source": [
        "9. Find the albums with 12 or more tracks."
      ]
    },
    {
      "cell_type": "code",
      "metadata": {
        "id": "8lQ-QzZineJK",
        "colab_type": "code",
        "colab": {}
      },
      "source": [
        "SELECT AlbumId, Count(*) AS Ntracks\n",
        "FROM Tracks\n",
        "GROUP BY AlbumId\n",
        "HAVING COUNT (*) >= 12"
      ],
      "execution_count": 0,
      "outputs": []
    },
    {
      "cell_type": "code",
      "metadata": {
        "id": "EpLff6m9nizD",
        "colab_type": "code",
        "colab": {}
      },
      "source": [
        "+---------+---------+\n",
        "| AlbumId | Ntracks |\n",
        "+---------+---------+\n",
        "|       5 |      15 |\n",
        "|       6 |      13 |\n",
        "|       7 |      12 |\n",
        "|       8 |      14 |\n",
        "|      10 |      14 |\n",
        "|      11 |      12 |\n",
        "|      12 |      12 |\n",
        "|      14 |      13 |\n",
        "|      18 |      17 |\n",
        "|      21 |      18 |\n",
        "+---------+---------+\n",
        "(Output limit exceeded, 10 of 158 total rows shown)"
      ],
      "execution_count": 0,
      "outputs": []
    }
  ]
}